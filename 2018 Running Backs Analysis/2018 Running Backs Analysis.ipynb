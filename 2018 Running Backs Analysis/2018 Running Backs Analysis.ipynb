{
 "cells": [
  {
   "cell_type": "markdown",
   "metadata": {},
   "source": [
    "## Introduction\n",
    "\n",
    "The 2018 Fantasy Football Auction Draft consisted of 51 various Running Backs drafted by the 10 league members. In this analysis, I focus on how well we drafted with player prices used as the feature of interest. Unfortunately, I was not able to include waiver wire and free agent transactions, trades, and other injuries - this is purely based on the draft. Furthermore, prior to the season's start, LeVeon Bell started his holdout due to contract issues. The league member who drafted LeVeon Bell also drafted his handcuff backup James Conner. Thus, since he didn't lose any points with an easy Bell/Conner switch, I elected to manually change their price points as well.\n",
    "\n",
    "\n",
    "### Necessary Libraries\n",
    "We first load the necessary libraries into the environment followed by importing the source data."
   ]
  },
  {
   "cell_type": "code",
   "execution_count": 1,
   "metadata": {},
   "outputs": [
    {
     "name": "stderr",
     "output_type": "stream",
     "text": [
      "Registered S3 methods overwritten by 'ggplot2':\n",
      "  method         from \n",
      "  [.quosures     rlang\n",
      "  c.quosures     rlang\n",
      "  print.quosures rlang\n",
      "Registered S3 method overwritten by 'rvest':\n",
      "  method            from\n",
      "  read_xml.response xml2\n",
      "-- Attaching packages --------------------------------------- tidyverse 1.2.1 --\n",
      "v ggplot2 3.1.1       v purrr   0.3.2  \n",
      "v tibble  2.1.1       v dplyr   0.8.0.1\n",
      "v tidyr   0.8.3       v stringr 1.4.0  \n",
      "v readr   1.3.1       v forcats 0.4.0  \n",
      "-- Conflicts ------------------------------------------ tidyverse_conflicts() --\n",
      "x dplyr::filter() masks stats::filter()\n",
      "x dplyr::lag()    masks stats::lag()\n"
     ]
    }
   ],
   "source": [
    "library(broom)\n",
    "library(readxl)\n",
    "library(tidyverse)"
   ]
  },
  {
   "cell_type": "code",
   "execution_count": 2,
   "metadata": {},
   "outputs": [
    {
     "data": {
      "text/html": [
       "<table>\n",
       "<thead><tr><th scope=col>Player</th><th scope=col>Position</th><th scope=col>Price</th><th scope=col>Year</th><th scope=col>Owner</th></tr></thead>\n",
       "<tbody>\n",
       "\t<tr><td>Philip Rivers      </td><td>QB                 </td><td> 2                 </td><td>2018               </td><td>Naki               </td></tr>\n",
       "\t<tr><td>Melvin Gordon      </td><td>RB                 </td><td>52                 </td><td>2018               </td><td>Naki               </td></tr>\n",
       "\t<tr><td>Jay Ajayi          </td><td>RB                 </td><td>22                 </td><td>2018               </td><td>Naki               </td></tr>\n",
       "\t<tr><td>Julio Jones        </td><td>WR                 </td><td>53                 </td><td>2018               </td><td>Naki               </td></tr>\n",
       "\t<tr><td>JuJu Smith-Schuster</td><td>WR                 </td><td>21                 </td><td>2018               </td><td>Naki               </td></tr>\n",
       "\t<tr><td>Michael Crabtree   </td><td>WR                 </td><td> 7                 </td><td>2018               </td><td>Naki               </td></tr>\n",
       "</tbody>\n",
       "</table>\n"
      ],
      "text/latex": [
       "\\begin{tabular}{r|lllll}\n",
       " Player & Position & Price & Year & Owner\\\\\n",
       "\\hline\n",
       "\t Philip Rivers       & QB                  &  2                  & 2018                & Naki               \\\\\n",
       "\t Melvin Gordon       & RB                  & 52                  & 2018                & Naki               \\\\\n",
       "\t Jay Ajayi           & RB                  & 22                  & 2018                & Naki               \\\\\n",
       "\t Julio Jones         & WR                  & 53                  & 2018                & Naki               \\\\\n",
       "\t JuJu Smith-Schuster & WR                  & 21                  & 2018                & Naki               \\\\\n",
       "\t Michael Crabtree    & WR                  &  7                  & 2018                & Naki               \\\\\n",
       "\\end{tabular}\n"
      ],
      "text/markdown": [
       "\n",
       "| Player | Position | Price | Year | Owner |\n",
       "|---|---|---|---|---|\n",
       "| Philip Rivers       | QB                  |  2                  | 2018                | Naki                |\n",
       "| Melvin Gordon       | RB                  | 52                  | 2018                | Naki                |\n",
       "| Jay Ajayi           | RB                  | 22                  | 2018                | Naki                |\n",
       "| Julio Jones         | WR                  | 53                  | 2018                | Naki                |\n",
       "| JuJu Smith-Schuster | WR                  | 21                  | 2018                | Naki                |\n",
       "| Michael Crabtree    | WR                  |  7                  | 2018                | Naki                |\n",
       "\n"
      ],
      "text/plain": [
       "  Player              Position Price Year Owner\n",
       "1 Philip Rivers       QB        2    2018 Naki \n",
       "2 Melvin Gordon       RB       52    2018 Naki \n",
       "3 Jay Ajayi           RB       22    2018 Naki \n",
       "4 Julio Jones         WR       53    2018 Naki \n",
       "5 JuJu Smith-Schuster WR       21    2018 Naki \n",
       "6 Michael Crabtree    WR        7    2018 Naki "
      ]
     },
     "metadata": {},
     "output_type": "display_data"
    }
   ],
   "source": [
    "#import the raw file provided to you\n",
    "source <- read_excel(\"C:/Users/NTellaku/Documents/R/ff/10 Guys 1 Cup/Drafted Players.xlsx\",\n",
    "                     sheet = \"2018\")\n",
    "head(source)"
   ]
  },
  {
   "cell_type": "markdown",
   "metadata": {},
   "source": [
    "### Creating the Analytical Data Set\n",
    "\n",
    "At this point, I manually looked through ESPN's history in order to see the scores of each Running Back. I took these values and manually entered them into a vector. Obviously, there are much more efficient methods to acquire these point totals."
   ]
  },
  {
   "cell_type": "code",
   "execution_count": 3,
   "metadata": {},
   "outputs": [
    {
     "data": {
      "text/html": [
       "<table>\n",
       "<thead><tr><th scope=col>Owner</th><th scope=col>Player</th><th scope=col>Price</th><th scope=col>Points</th></tr></thead>\n",
       "<tbody>\n",
       "\t<tr><td>Naki           </td><td>Marlon Mack    </td><td>1              </td><td>160            </td></tr>\n",
       "\t<tr><td>Naki           </td><td>Austin Ekeler  </td><td>1              </td><td>129            </td></tr>\n",
       "\t<tr><td>Naki           </td><td>Nick Chubb     </td><td>1              </td><td>173            </td></tr>\n",
       "\t<tr><td>Mount          </td><td>Peyton Barber  </td><td>1              </td><td>130            </td></tr>\n",
       "\t<tr><td>Mount          </td><td>Matt Breida    </td><td>1              </td><td>135            </td></tr>\n",
       "\t<tr><td>Babcock        </td><td>Kerryon Johnson</td><td>1              </td><td>107            </td></tr>\n",
       "</tbody>\n",
       "</table>\n"
      ],
      "text/latex": [
       "\\begin{tabular}{r|llll}\n",
       " Owner & Player & Price & Points\\\\\n",
       "\\hline\n",
       "\t Naki            & Marlon Mack     & 1               & 160            \\\\\n",
       "\t Naki            & Austin Ekeler   & 1               & 129            \\\\\n",
       "\t Naki            & Nick Chubb      & 1               & 173            \\\\\n",
       "\t Mount           & Peyton Barber   & 1               & 130            \\\\\n",
       "\t Mount           & Matt Breida     & 1               & 135            \\\\\n",
       "\t Babcock         & Kerryon Johnson & 1               & 107            \\\\\n",
       "\\end{tabular}\n"
      ],
      "text/markdown": [
       "\n",
       "| Owner | Player | Price | Points |\n",
       "|---|---|---|---|\n",
       "| Naki            | Marlon Mack     | 1               | 160             |\n",
       "| Naki            | Austin Ekeler   | 1               | 129             |\n",
       "| Naki            | Nick Chubb      | 1               | 173             |\n",
       "| Mount           | Peyton Barber   | 1               | 130             |\n",
       "| Mount           | Matt Breida     | 1               | 135             |\n",
       "| Babcock         | Kerryon Johnson | 1               | 107             |\n",
       "\n"
      ],
      "text/plain": [
       "  Owner   Player          Price Points\n",
       "1 Naki    Marlon Mack     1     160   \n",
       "2 Naki    Austin Ekeler   1     129   \n",
       "3 Naki    Nick Chubb      1     173   \n",
       "4 Mount   Peyton Barber   1     130   \n",
       "5 Mount   Matt Breida     1     135   \n",
       "6 Babcock Kerryon Johnson 1     107   "
      ]
     },
     "metadata": {},
     "output_type": "display_data"
    }
   ],
   "source": [
    "#how much points did each drafted Running Back score in standard scoring in 2018?\n",
    "rbs_points <- c(225, 38, 160, 129, 173, 203, 93, 152, 121, 88, 49, 87, 196, 8,\n",
    "                35, 130, 135, 279, 199, 63, 107, 181, 313, 184, 119, 60, 251,\n",
    "                272, 101, 58, 294, 87, 101, 168, 59, 97, 111, 0, 84, 132, 159,\n",
    "                147, 164, 58, 109, 144, 0, 92, 161, 75, 224)\n",
    "\n",
    "rbs <- source %>% \n",
    "  filter(Position == \"RB\") %>% \n",
    "  select(Owner, Player, Price) %>% \n",
    "  mutate(Points = rbs_points) %>% \n",
    "  arrange(Price)\n",
    "\n",
    "#flipping the values for Conner and Bell\n",
    "rbs[17, 4] <- 0\n",
    "rbs[50, 4] <- 224\n",
    "\n",
    "head(rbs)"
   ]
  },
  {
   "cell_type": "markdown",
   "metadata": {},
   "source": [
    "The <code>rbs</code> data set contains the player drafted, league member who drafted them, the price, and the points scored over the course of the season. It does ***not*** cover who ended up with the player (for example trades), adds/drops, and other transactions that would affect roster status.\n",
    "\n",
    "### Visualization\n",
    "\n",
    "With the data set ready, we use it to graph a scatterplot of points vs. price, with a predictor function overlaid."
   ]
  },
  {
   "cell_type": "code",
   "execution_count": 4,
   "metadata": {},
   "outputs": [
    {
     "data": {
      "image/png": "[encoded data removed]",
      "text/plain": [
       "plot without title"
      ]
     },
     "metadata": {},
     "output_type": "display_data"
    }
   ],
   "source": [
    "ggplot(rbs, aes(x = Price, y = Points)) +\n",
    "  geom_point(size = 2, shape = 17) +\n",
    "  theme_classic() +\n",
    "  labs(title = \"Price vs. Points\",\n",
    "       subtitle = \"2018 Running Backs, switching Conner and Bell's Points\",\n",
    "       x = \"Price ($)\") +\n",
    "  geom_smooth(method = \"lm\",\n",
    "              formula = y ~ splines::bs(x, 4),\n",
    "              se = F)"
   ]
  },
  {
   "cell_type": "markdown",
   "metadata": {},
   "source": [
    "Another scatterplot is produced, this time with the drafter highlighted."
   ]
  },
  {
   "cell_type": "code",
   "execution_count": 5,
   "metadata": {},
   "outputs": [
    {
     "data": {
      "image/png": "[encoded data removed]",
      "text/plain": [
       "plot without title"
      ]
     },
     "metadata": {},
     "output_type": "display_data"
    }
   ],
   "source": [
    "ggplot(rbs, aes(x = Price, y = Points)) +\n",
    "  geom_point(size = 2, shape = 17, aes(color = Owner)) +\n",
    "  theme_classic() +\n",
    "  labs(title = \"Price vs. Points\",\n",
    "       subtitle = \"2018 Running Backs, switching Conner and Bell's Points\",\n",
    "       x = \"Price ($)\") +\n",
    "  geom_smooth(method = \"lm\",\n",
    "              formula = y ~ splines::bs(x, 4),\n",
    "              se = F)"
   ]
  },
  {
   "cell_type": "markdown",
   "metadata": {},
   "source": [
    "Reminder, James Conner and LeVeon Bell's point totals were switched manually since they were drafted by the same league member.\n",
    "\n",
    "The scatterplot will be heavily skewed. Proven players and \"studs\" will be auctioned off for higher values. Fliers, bench filler, and sleeper players will be auctioned for a dollar. Therefore, ordinary least-square regression won't quite work - there is a huge range of point totals at $1.\n",
    "As a result, I elected to use a polynomial B-spline. This will take into consideration other valleys and peaks in point totals and reveal more information than a straight line. For example, single dollar players drafted may have many purposes, as I listed above. However, a 5 dolalr player is probably more pidgeon-holed to a bench role rather than a useful handcuff that a dollar player would be. Using a piecewise polynomial fitter, the number of knots, or pieceso of the polynomial function, can be more easily defined. An important note is that a B-spline function is differentiable and continuous along its domain."
   ]
  },
  {
   "cell_type": "markdown",
   "metadata": {},
   "source": [
    "### Analysis\n",
    "\n",
    "With the function overlaid, we can indeed see that as a player costs more money, the higher odds the player scores more during the season. Unfortunately, there is a lot of variance with resulting scores leading to immense residuals. For the purposes of this analysis, I elect to grade the best draft by those who had the lowest summed residual.\n",
    "\n",
    "\n",
    "Here's the table of how each player performed against their expected value according to the spline:"
   ]
  },
  {
   "cell_type": "code",
   "execution_count": 6,
   "metadata": {},
   "outputs": [
    {
     "data": {
      "text/html": [
       "<table>\n",
       "<thead><tr><th scope=col>Owner</th><th scope=col>Player</th><th scope=col>Price</th><th scope=col>Expected Points</th><th scope=col>Actual Points</th><th scope=col>Residual</th></tr></thead>\n",
       "<tbody>\n",
       "\t<tr><td>Naki               </td><td>Marlon Mack        </td><td> 1                 </td><td>103                </td><td>160                </td><td>  57               </td></tr>\n",
       "\t<tr><td>Naki               </td><td>Austin Ekeler      </td><td> 1                 </td><td>103                </td><td>129                </td><td>  26               </td></tr>\n",
       "\t<tr><td>Naki               </td><td>Nick Chubb         </td><td> 1                 </td><td>103                </td><td>173                </td><td>  70               </td></tr>\n",
       "\t<tr><td>Mount              </td><td>Peyton Barber      </td><td> 1                 </td><td>103                </td><td>130                </td><td>  27               </td></tr>\n",
       "\t<tr><td>Mount              </td><td>Matt Breida        </td><td> 1                 </td><td>103                </td><td>135                </td><td>  32               </td></tr>\n",
       "\t<tr><td>Babcock            </td><td>Kerryon Johnson    </td><td> 1                 </td><td>103                </td><td>107                </td><td>   4               </td></tr>\n",
       "\t<tr><td>Casey              </td><td>Rashaad Penny      </td><td> 1                 </td><td>103                </td><td> 60                </td><td> -43               </td></tr>\n",
       "\t<tr><td>Jordan             </td><td>Doug Martin        </td><td> 1                 </td><td>103                </td><td>101                </td><td>  -2               </td></tr>\n",
       "\t<tr><td>Jordan             </td><td>Buck Allen         </td><td> 1                 </td><td>103                </td><td> 58                </td><td> -45               </td></tr>\n",
       "\t<tr><td>Kooper             </td><td>Duke Johnson       </td><td> 1                 </td><td>103                </td><td> 84                </td><td> -19               </td></tr>\n",
       "\t<tr><td>Kooper             </td><td>Sony Michel        </td><td> 1                 </td><td>103                </td><td>132                </td><td>  29               </td></tr>\n",
       "\t<tr><td>Sirpi              </td><td>Tarik Cohen        </td><td> 1                 </td><td>103                </td><td>164                </td><td>  61               </td></tr>\n",
       "\t<tr><td>Sirpi              </td><td>Corey Clement      </td><td> 1                 </td><td>103                </td><td> 58                </td><td> -45               </td></tr>\n",
       "\t<tr><td>Sirpi              </td><td>Latavius Murray    </td><td> 1                 </td><td>103                </td><td>109                </td><td>   6               </td></tr>\n",
       "\t<tr><td>Sirpi              </td><td>Aaron Jones        </td><td> 1                 </td><td>103                </td><td>144                </td><td>  41               </td></tr>\n",
       "\t<tr><td>Badillo            </td><td>LeGarrette Blount  </td><td> 1                 </td><td>103                </td><td> 75                </td><td> -28               </td></tr>\n",
       "\t<tr><td>Badillo            </td><td>James Conner       </td><td> 1                 </td><td>103                </td><td>  0                </td><td>-103               </td></tr>\n",
       "\t<tr><td>Kooper             </td><td>Jerrick McKinnon   </td><td> 2                 </td><td> 95                </td><td>  0                </td><td> -95               </td></tr>\n",
       "\t<tr><td>Alec               </td><td>Chris Thomspon     </td><td> 3                 </td><td> 91                </td><td> 49                </td><td> -42               </td></tr>\n",
       "\t<tr><td>Alec               </td><td>Jamaal Williams    </td><td> 3                 </td><td> 91                </td><td> 87                </td><td>  -4               </td></tr>\n",
       "\t<tr><td>Alec               </td><td>Mark Ingram        </td><td> 4                 </td><td> 90                </td><td>121                </td><td>  31               </td></tr>\n",
       "\t<tr><td>Oatman             </td><td>Dion Lewis         </td><td> 4                 </td><td> 90                </td><td>101                </td><td>  11               </td></tr>\n",
       "\t<tr><td>Oatman             </td><td>Alfred Morris      </td><td> 4                 </td><td> 90                </td><td> 59                </td><td> -31               </td></tr>\n",
       "\t<tr><td>Alec               </td><td>Carlos Hyde        </td><td> 5                 </td><td> 91                </td><td> 88                </td><td>  -3               </td></tr>\n",
       "\t<tr><td>Casey              </td><td>Isaiah Crowell     </td><td> 6                 </td><td> 93                </td><td>119                </td><td>  26               </td></tr>\n",
       "\t<tr><td>Oatman             </td><td>Adrian Peterson    </td><td> 7                 </td><td> 96                </td><td>168                </td><td>  72               </td></tr>\n",
       "\t<tr><td>Oatman             </td><td>Royce Freeman      </td><td>10                 </td><td>105                </td><td> 87                </td><td> -18               </td></tr>\n",
       "\t<tr><td>Babcock            </td><td>Marshawn Lynch     </td><td>12                 </td><td>110                </td><td> 63                </td><td> -47               </td></tr>\n",
       "\t<tr><td>Badillo            </td><td>Tevin Coleman      </td><td>13                 </td><td>112                </td><td>161                </td><td>  49               </td></tr>\n",
       "\t<tr><td>Babcock            </td><td>Chris Carson       </td><td>14                 </td><td>114                </td><td>181                </td><td>  67               </td></tr>\n",
       "\t<tr><td>Mount              </td><td>Rex Burkhead       </td><td>15                 </td><td>116                </td><td> 35                </td><td> -81               </td></tr>\n",
       "\t<tr><td>Alec               </td><td>Kenyan Drake       </td><td>16                 </td><td>118                </td><td>152                </td><td>  34               </td></tr>\n",
       "\t<tr><td>Alec               </td><td>Alex Collins       </td><td>20                 </td><td>125                </td><td> 93                </td><td> -32               </td></tr>\n",
       "\t<tr><td>Naki               </td><td>Jay Ajayi          </td><td>22                 </td><td>128                </td><td> 38                </td><td> -90               </td></tr>\n",
       "\t<tr><td>Sirpi              </td><td>Lamar Miller       </td><td>22                 </td><td>128                </td><td>147                </td><td>  19               </td></tr>\n",
       "\t<tr><td>Babcock            </td><td>Joe Mixon          </td><td>23                 </td><td>130                </td><td>199                </td><td>  69               </td></tr>\n",
       "\t<tr><td>Casey              </td><td>Derrick Henry      </td><td>28                 </td><td>137                </td><td>184                </td><td>  47               </td></tr>\n",
       "\t<tr><td>Badillo            </td><td>LeSean McCoy       </td><td>31                 </td><td>142                </td><td> 92                </td><td> -50               </td></tr>\n",
       "\t<tr><td>Mount              </td><td>Devonta Freeman    </td><td>41                 </td><td>159                </td><td>  8                </td><td>-151               </td></tr>\n",
       "\t<tr><td>Babcock            </td><td>Christian McCaffrey</td><td>41                 </td><td>159                </td><td>279                </td><td> 120               </td></tr>\n",
       "\t<tr><td>Sirpi              </td><td>Jordan Howard      </td><td>45                 </td><td>169                </td><td>159                </td><td> -10               </td></tr>\n",
       "\t<tr><td>Kooper             </td><td>Dalvin Cook        </td><td>48                 </td><td>178                </td><td>111                </td><td> -67               </td></tr>\n",
       "\t<tr><td>Alec               </td><td>Kareem Hunt        </td><td>49                 </td><td>181                </td><td>203                </td><td>  22               </td></tr>\n",
       "\t<tr><td>Oatman             </td><td>Saquon Barkley     </td><td>49                 </td><td>181                </td><td>294                </td><td> 113               </td></tr>\n",
       "\t<tr><td>Kooper             </td><td>Leonard Fournette  </td><td>51                 </td><td>188                </td><td> 97                </td><td> -91               </td></tr>\n",
       "\t<tr><td>Naki               </td><td>Melvin Gordon      </td><td>52                 </td><td>192                </td><td>225                </td><td>  33               </td></tr>\n",
       "\t<tr><td>Jordan             </td><td>Alvin Kamara       </td><td>53                 </td><td>196                </td><td>272                </td><td>  76               </td></tr>\n",
       "\t<tr><td>Mount              </td><td>David Johnson      </td><td>63                 </td><td>248                </td><td>196                </td><td> -52               </td></tr>\n",
       "\t<tr><td>Jordan             </td><td>Ezekiel Elliott    </td><td>63                 </td><td>248                </td><td>251                </td><td>   3               </td></tr>\n",
       "\t<tr><td>Badillo            </td><td>LeVeon Bell        </td><td>64                 </td><td>254                </td><td>224                </td><td> -30               </td></tr>\n",
       "\t<tr><td>Casey              </td><td>Todd Gurley        </td><td>67                 </td><td>276                </td><td>313                </td><td>  37               </td></tr>\n",
       "</tbody>\n",
       "</table>\n"
      ],
      "text/latex": [
       "\\begin{tabular}{r|llllll}\n",
       " Owner & Player & Price & Expected Points & Actual Points & Residual\\\\\n",
       "\\hline\n",
       "\t Naki                & Marlon Mack         &  1                  & 103                 & 160                 &   57               \\\\\n",
       "\t Naki                & Austin Ekeler       &  1                  & 103                 & 129                 &   26               \\\\\n",
       "\t Naki                & Nick Chubb          &  1                  & 103                 & 173                 &   70               \\\\\n",
       "\t Mount               & Peyton Barber       &  1                  & 103                 & 130                 &   27               \\\\\n",
       "\t Mount               & Matt Breida         &  1                  & 103                 & 135                 &   32               \\\\\n",
       "\t Babcock             & Kerryon Johnson     &  1                  & 103                 & 107                 &    4               \\\\\n",
       "\t Casey               & Rashaad Penny       &  1                  & 103                 &  60                 &  -43               \\\\\n",
       "\t Jordan              & Doug Martin         &  1                  & 103                 & 101                 &   -2               \\\\\n",
       "\t Jordan              & Buck Allen          &  1                  & 103                 &  58                 &  -45               \\\\\n",
       "\t Kooper              & Duke Johnson        &  1                  & 103                 &  84                 &  -19               \\\\\n",
       "\t Kooper              & Sony Michel         &  1                  & 103                 & 132                 &   29               \\\\\n",
       "\t Sirpi               & Tarik Cohen         &  1                  & 103                 & 164                 &   61               \\\\\n",
       "\t Sirpi               & Corey Clement       &  1                  & 103                 &  58                 &  -45               \\\\\n",
       "\t Sirpi               & Latavius Murray     &  1                  & 103                 & 109                 &    6               \\\\\n",
       "\t Sirpi               & Aaron Jones         &  1                  & 103                 & 144                 &   41               \\\\\n",
       "\t Badillo             & LeGarrette Blount   &  1                  & 103                 &  75                 &  -28               \\\\\n",
       "\t Badillo             & James Conner        &  1                  & 103                 &   0                 & -103               \\\\\n",
       "\t Kooper              & Jerrick McKinnon    &  2                  &  95                 &   0                 &  -95               \\\\\n",
       "\t Alec                & Chris Thomspon      &  3                  &  91                 &  49                 &  -42               \\\\\n",
       "\t Alec                & Jamaal Williams     &  3                  &  91                 &  87                 &   -4               \\\\\n",
       "\t Alec                & Mark Ingram         &  4                  &  90                 & 121                 &   31               \\\\\n",
       "\t Oatman              & Dion Lewis          &  4                  &  90                 & 101                 &   11               \\\\\n",
       "\t Oatman              & Alfred Morris       &  4                  &  90                 &  59                 &  -31               \\\\\n",
       "\t Alec                & Carlos Hyde         &  5                  &  91                 &  88                 &   -3               \\\\\n",
       "\t Casey               & Isaiah Crowell      &  6                  &  93                 & 119                 &   26               \\\\\n",
       "\t Oatman              & Adrian Peterson     &  7                  &  96                 & 168                 &   72               \\\\\n",
       "\t Oatman              & Royce Freeman       & 10                  & 105                 &  87                 &  -18               \\\\\n",
       "\t Babcock             & Marshawn Lynch      & 12                  & 110                 &  63                 &  -47               \\\\\n",
       "\t Badillo             & Tevin Coleman       & 13                  & 112                 & 161                 &   49               \\\\\n",
       "\t Babcock             & Chris Carson        & 14                  & 114                 & 181                 &   67               \\\\\n",
       "\t Mount               & Rex Burkhead        & 15                  & 116                 &  35                 &  -81               \\\\\n",
       "\t Alec                & Kenyan Drake        & 16                  & 118                 & 152                 &   34               \\\\\n",
       "\t Alec                & Alex Collins        & 20                  & 125                 &  93                 &  -32               \\\\\n",
       "\t Naki                & Jay Ajayi           & 22                  & 128                 &  38                 &  -90               \\\\\n",
       "\t Sirpi               & Lamar Miller        & 22                  & 128                 & 147                 &   19               \\\\\n",
       "\t Babcock             & Joe Mixon           & 23                  & 130                 & 199                 &   69               \\\\\n",
       "\t Casey               & Derrick Henry       & 28                  & 137                 & 184                 &   47               \\\\\n",
       "\t Badillo             & LeSean McCoy        & 31                  & 142                 &  92                 &  -50               \\\\\n",
       "\t Mount               & Devonta Freeman     & 41                  & 159                 &   8                 & -151               \\\\\n",
       "\t Babcock             & Christian McCaffrey & 41                  & 159                 & 279                 &  120               \\\\\n",
       "\t Sirpi               & Jordan Howard       & 45                  & 169                 & 159                 &  -10               \\\\\n",
       "\t Kooper              & Dalvin Cook         & 48                  & 178                 & 111                 &  -67               \\\\\n",
       "\t Alec                & Kareem Hunt         & 49                  & 181                 & 203                 &   22               \\\\\n",
       "\t Oatman              & Saquon Barkley      & 49                  & 181                 & 294                 &  113               \\\\\n",
       "\t Kooper              & Leonard Fournette   & 51                  & 188                 &  97                 &  -91               \\\\\n",
       "\t Naki                & Melvin Gordon       & 52                  & 192                 & 225                 &   33               \\\\\n",
       "\t Jordan              & Alvin Kamara        & 53                  & 196                 & 272                 &   76               \\\\\n",
       "\t Mount               & David Johnson       & 63                  & 248                 & 196                 &  -52               \\\\\n",
       "\t Jordan              & Ezekiel Elliott     & 63                  & 248                 & 251                 &    3               \\\\\n",
       "\t Badillo             & LeVeon Bell         & 64                  & 254                 & 224                 &  -30               \\\\\n",
       "\t Casey               & Todd Gurley         & 67                  & 276                 & 313                 &   37               \\\\\n",
       "\\end{tabular}\n"
      ],
      "text/markdown": [
       "\n",
       "| Owner | Player | Price | Expected Points | Actual Points | Residual |\n",
       "|---|---|---|---|---|---|\n",
       "| Naki                | Marlon Mack         |  1                  | 103                 | 160                 |   57                |\n",
       "| Naki                | Austin Ekeler       |  1                  | 103                 | 129                 |   26                |\n",
       "| Naki                | Nick Chubb          |  1                  | 103                 | 173                 |   70                |\n",
       "| Mount               | Peyton Barber       |  1                  | 103                 | 130                 |   27                |\n",
       "| Mount               | Matt Breida         |  1                  | 103                 | 135                 |   32                |\n",
       "| Babcock             | Kerryon Johnson     |  1                  | 103                 | 107                 |    4                |\n",
       "| Casey               | Rashaad Penny       |  1                  | 103                 |  60                 |  -43                |\n",
       "| Jordan              | Doug Martin         |  1                  | 103                 | 101                 |   -2                |\n",
       "| Jordan              | Buck Allen          |  1                  | 103                 |  58                 |  -45                |\n",
       "| Kooper              | Duke Johnson        |  1                  | 103                 |  84                 |  -19                |\n",
       "| Kooper              | Sony Michel         |  1                  | 103                 | 132                 |   29                |\n",
       "| Sirpi               | Tarik Cohen         |  1                  | 103                 | 164                 |   61                |\n",
       "| Sirpi               | Corey Clement       |  1                  | 103                 |  58                 |  -45                |\n",
       "| Sirpi               | Latavius Murray     |  1                  | 103                 | 109                 |    6                |\n",
       "| Sirpi               | Aaron Jones         |  1                  | 103                 | 144                 |   41                |\n",
       "| Badillo             | LeGarrette Blount   |  1                  | 103                 |  75                 |  -28                |\n",
       "| Badillo             | James Conner        |  1                  | 103                 |   0                 | -103                |\n",
       "| Kooper              | Jerrick McKinnon    |  2                  |  95                 |   0                 |  -95                |\n",
       "| Alec                | Chris Thomspon      |  3                  |  91                 |  49                 |  -42                |\n",
       "| Alec                | Jamaal Williams     |  3                  |  91                 |  87                 |   -4                |\n",
       "| Alec                | Mark Ingram         |  4                  |  90                 | 121                 |   31                |\n",
       "| Oatman              | Dion Lewis          |  4                  |  90                 | 101                 |   11                |\n",
       "| Oatman              | Alfred Morris       |  4                  |  90                 |  59                 |  -31                |\n",
       "| Alec                | Carlos Hyde         |  5                  |  91                 |  88                 |   -3                |\n",
       "| Casey               | Isaiah Crowell      |  6                  |  93                 | 119                 |   26                |\n",
       "| Oatman              | Adrian Peterson     |  7                  |  96                 | 168                 |   72                |\n",
       "| Oatman              | Royce Freeman       | 10                  | 105                 |  87                 |  -18                |\n",
       "| Babcock             | Marshawn Lynch      | 12                  | 110                 |  63                 |  -47                |\n",
       "| Badillo             | Tevin Coleman       | 13                  | 112                 | 161                 |   49                |\n",
       "| Babcock             | Chris Carson        | 14                  | 114                 | 181                 |   67                |\n",
       "| Mount               | Rex Burkhead        | 15                  | 116                 |  35                 |  -81                |\n",
       "| Alec                | Kenyan Drake        | 16                  | 118                 | 152                 |   34                |\n",
       "| Alec                | Alex Collins        | 20                  | 125                 |  93                 |  -32                |\n",
       "| Naki                | Jay Ajayi           | 22                  | 128                 |  38                 |  -90                |\n",
       "| Sirpi               | Lamar Miller        | 22                  | 128                 | 147                 |   19                |\n",
       "| Babcock             | Joe Mixon           | 23                  | 130                 | 199                 |   69                |\n",
       "| Casey               | Derrick Henry       | 28                  | 137                 | 184                 |   47                |\n",
       "| Badillo             | LeSean McCoy        | 31                  | 142                 |  92                 |  -50                |\n",
       "| Mount               | Devonta Freeman     | 41                  | 159                 |   8                 | -151                |\n",
       "| Babcock             | Christian McCaffrey | 41                  | 159                 | 279                 |  120                |\n",
       "| Sirpi               | Jordan Howard       | 45                  | 169                 | 159                 |  -10                |\n",
       "| Kooper              | Dalvin Cook         | 48                  | 178                 | 111                 |  -67                |\n",
       "| Alec                | Kareem Hunt         | 49                  | 181                 | 203                 |   22                |\n",
       "| Oatman              | Saquon Barkley      | 49                  | 181                 | 294                 |  113                |\n",
       "| Kooper              | Leonard Fournette   | 51                  | 188                 |  97                 |  -91                |\n",
       "| Naki                | Melvin Gordon       | 52                  | 192                 | 225                 |   33                |\n",
       "| Jordan              | Alvin Kamara        | 53                  | 196                 | 272                 |   76                |\n",
       "| Mount               | David Johnson       | 63                  | 248                 | 196                 |  -52                |\n",
       "| Jordan              | Ezekiel Elliott     | 63                  | 248                 | 251                 |    3                |\n",
       "| Badillo             | LeVeon Bell         | 64                  | 254                 | 224                 |  -30                |\n",
       "| Casey               | Todd Gurley         | 67                  | 276                 | 313                 |   37                |\n",
       "\n"
      ],
      "text/plain": [
       "   Owner   Player              Price Expected Points Actual Points Residual\n",
       "1  Naki    Marlon Mack          1    103             160             57    \n",
       "2  Naki    Austin Ekeler        1    103             129             26    \n",
       "3  Naki    Nick Chubb           1    103             173             70    \n",
       "4  Mount   Peyton Barber        1    103             130             27    \n",
       "5  Mount   Matt Breida          1    103             135             32    \n",
       "6  Babcock Kerryon Johnson      1    103             107              4    \n",
       "7  Casey   Rashaad Penny        1    103              60            -43    \n",
       "8  Jordan  Doug Martin          1    103             101             -2    \n",
       "9  Jordan  Buck Allen           1    103              58            -45    \n",
       "10 Kooper  Duke Johnson         1    103              84            -19    \n",
       "11 Kooper  Sony Michel          1    103             132             29    \n",
       "12 Sirpi   Tarik Cohen          1    103             164             61    \n",
       "13 Sirpi   Corey Clement        1    103              58            -45    \n",
       "14 Sirpi   Latavius Murray      1    103             109              6    \n",
       "15 Sirpi   Aaron Jones          1    103             144             41    \n",
       "16 Badillo LeGarrette Blount    1    103              75            -28    \n",
       "17 Badillo James Conner         1    103               0           -103    \n",
       "18 Kooper  Jerrick McKinnon     2     95               0            -95    \n",
       "19 Alec    Chris Thomspon       3     91              49            -42    \n",
       "20 Alec    Jamaal Williams      3     91              87             -4    \n",
       "21 Alec    Mark Ingram          4     90             121             31    \n",
       "22 Oatman  Dion Lewis           4     90             101             11    \n",
       "23 Oatman  Alfred Morris        4     90              59            -31    \n",
       "24 Alec    Carlos Hyde          5     91              88             -3    \n",
       "25 Casey   Isaiah Crowell       6     93             119             26    \n",
       "26 Oatman  Adrian Peterson      7     96             168             72    \n",
       "27 Oatman  Royce Freeman       10    105              87            -18    \n",
       "28 Babcock Marshawn Lynch      12    110              63            -47    \n",
       "29 Badillo Tevin Coleman       13    112             161             49    \n",
       "30 Babcock Chris Carson        14    114             181             67    \n",
       "31 Mount   Rex Burkhead        15    116              35            -81    \n",
       "32 Alec    Kenyan Drake        16    118             152             34    \n",
       "33 Alec    Alex Collins        20    125              93            -32    \n",
       "34 Naki    Jay Ajayi           22    128              38            -90    \n",
       "35 Sirpi   Lamar Miller        22    128             147             19    \n",
       "36 Babcock Joe Mixon           23    130             199             69    \n",
       "37 Casey   Derrick Henry       28    137             184             47    \n",
       "38 Badillo LeSean McCoy        31    142              92            -50    \n",
       "39 Mount   Devonta Freeman     41    159               8           -151    \n",
       "40 Babcock Christian McCaffrey 41    159             279            120    \n",
       "41 Sirpi   Jordan Howard       45    169             159            -10    \n",
       "42 Kooper  Dalvin Cook         48    178             111            -67    \n",
       "43 Alec    Kareem Hunt         49    181             203             22    \n",
       "44 Oatman  Saquon Barkley      49    181             294            113    \n",
       "45 Kooper  Leonard Fournette   51    188              97            -91    \n",
       "46 Naki    Melvin Gordon       52    192             225             33    \n",
       "47 Jordan  Alvin Kamara        53    196             272             76    \n",
       "48 Mount   David Johnson       63    248             196            -52    \n",
       "49 Jordan  Ezekiel Elliott     63    248             251              3    \n",
       "50 Badillo LeVeon Bell         64    254             224            -30    \n",
       "51 Casey   Todd Gurley         67    276             313             37    "
      ]
     },
     "metadata": {},
     "output_type": "display_data"
    }
   ],
   "source": [
    "#create the model separately\n",
    "model <- lm(Points ~ splines::bs(Price, 4), data = rbs)\n",
    "\n",
    "#add predicted values from model to original data set\n",
    "rb_table <- augment(model, rbs) %>% \n",
    "  mutate(Expected = round(Points - .resid)) %>% \n",
    "  mutate(Residual = round(.resid)) %>% \n",
    "  select(Owner, Player, Price, Expected, Points, Residual) %>% \n",
    "  rename(\"Actual Points\" = Points,\n",
    "         \"Expected Points\" = Expected)\n",
    "\n",
    "rb_table"
   ]
  },
  {
   "cell_type": "markdown",
   "metadata": {},
   "source": [
    "Now the summarized-by-drafter for residuals:"
   ]
  },
  {
   "cell_type": "code",
   "execution_count": 7,
   "metadata": {},
   "outputs": [
    {
     "data": {
      "text/html": [
       "<table>\n",
       "<thead><tr><th scope=col>Owner</th><th scope=col>Total Residual</th></tr></thead>\n",
       "<tbody>\n",
       "\t<tr><td>Kooper </td><td>-243   </td></tr>\n",
       "\t<tr><td>Mount  </td><td>-225   </td></tr>\n",
       "\t<tr><td>Badillo</td><td>-162   </td></tr>\n",
       "\t<tr><td>Alec   </td><td>   6   </td></tr>\n",
       "\t<tr><td>Jordan </td><td>  32   </td></tr>\n",
       "\t<tr><td>Casey  </td><td>  67   </td></tr>\n",
       "\t<tr><td>Sirpi  </td><td>  72   </td></tr>\n",
       "\t<tr><td>Naki   </td><td>  96   </td></tr>\n",
       "\t<tr><td>Oatman </td><td> 147   </td></tr>\n",
       "\t<tr><td>Babcock</td><td> 213   </td></tr>\n",
       "</tbody>\n",
       "</table>\n"
      ],
      "text/latex": [
       "\\begin{tabular}{r|ll}\n",
       " Owner & Total Residual\\\\\n",
       "\\hline\n",
       "\t Kooper  & -243   \\\\\n",
       "\t Mount   & -225   \\\\\n",
       "\t Badillo & -162   \\\\\n",
       "\t Alec    &    6   \\\\\n",
       "\t Jordan  &   32   \\\\\n",
       "\t Casey   &   67   \\\\\n",
       "\t Sirpi   &   72   \\\\\n",
       "\t Naki    &   96   \\\\\n",
       "\t Oatman  &  147   \\\\\n",
       "\t Babcock &  213   \\\\\n",
       "\\end{tabular}\n"
      ],
      "text/markdown": [
       "\n",
       "| Owner | Total Residual |\n",
       "|---|---|\n",
       "| Kooper  | -243    |\n",
       "| Mount   | -225    |\n",
       "| Badillo | -162    |\n",
       "| Alec    |    6    |\n",
       "| Jordan  |   32    |\n",
       "| Casey   |   67    |\n",
       "| Sirpi   |   72    |\n",
       "| Naki    |   96    |\n",
       "| Oatman  |  147    |\n",
       "| Babcock |  213    |\n",
       "\n"
      ],
      "text/plain": [
       "   Owner   Total Residual\n",
       "1  Kooper  -243          \n",
       "2  Mount   -225          \n",
       "3  Badillo -162          \n",
       "4  Alec       6          \n",
       "5  Jordan    32          \n",
       "6  Casey     67          \n",
       "7  Sirpi     72          \n",
       "8  Naki      96          \n",
       "9  Oatman   147          \n",
       "10 Babcock  213          "
      ]
     },
     "metadata": {},
     "output_type": "display_data"
    }
   ],
   "source": [
    "total_residual <- rb_table %>%\n",
    "  group_by(Owner) %>%\n",
    "  summarize(\"Total Residual\" = sum(Residual)) %>% \n",
    "  arrange(`Total Residual`)\n",
    "\n",
    "total_residual"
   ]
  },
  {
   "cell_type": "markdown",
   "metadata": {},
   "source": [
    "A higher, more positive residual means players scored more than expected and the drafted benefitted from a better value. Grading the draft purely from a running backs perspective Babcock had the best draft. What this table doesn't reveal, is how those RBs were used in terms of transactions, started in the lineup, injuries and replacements, etc.\n",
    "\n",
    "What we can draw from this table is that generally, more money = more points for the season (obviously). The graphic shows that almost no points lie close to the predictor line. Drafting middle-of-the-pack players may be a risky move - as those players have a much larger variability. Play it safe, go for the proven studs, or take the risks and take the cheap fliers."
   ]
  },
  {
   "cell_type": "code",
   "execution_count": null,
   "metadata": {},
   "outputs": [],
   "source": []
  }
 ],
 "metadata": {
  "kernelspec": {
   "display_name": "R",
   "language": "R",
   "name": "ir"
  },
  "language_info": {
   "codemirror_mode": "r",
   "file_extension": ".r",
   "mimetype": "text/x-r-source",
   "name": "R",
   "pygments_lexer": "r",
   "version": "3.6.1"
  }
 },
 "nbformat": 4,
 "nbformat_minor": 2
}
